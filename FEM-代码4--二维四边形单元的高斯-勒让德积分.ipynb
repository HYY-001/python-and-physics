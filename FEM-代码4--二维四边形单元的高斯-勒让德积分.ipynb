{
 "cells": [
  {
   "cell_type": "markdown",
   "id": "bb7cd5e9",
   "metadata": {},
   "source": [
    "# 2022年7月12日09:59:00"
   ]
  },
  {
   "cell_type": "markdown",
   "id": "09cc3900",
   "metadata": {},
   "source": [
    "## 1. 高斯-勒让德积分"
   ]
  },
  {
   "cell_type": "code",
   "execution_count": 7,
   "id": "7d28e366",
   "metadata": {},
   "outputs": [],
   "source": [
    "import numpy as np\n",
    "from numpy.polynomial.legendre import leggauss"
   ]
  },
  {
   "cell_type": "code",
   "execution_count": 8,
   "id": "c4fc787c",
   "metadata": {},
   "outputs": [],
   "source": [
    "# 需要继续积分域分别为x:[0-2];y:[0-2]\n",
    "# 因为这关系到dx转换到de之后的系数\n",
    "def f(x,y):\n",
    "    return 3*y**2+2*x"
   ]
  },
  {
   "cell_type": "markdown",
   "id": "52aa1ed0",
   "metadata": {},
   "source": [
    "假如要求的积分如下：  \n",
    "  \n",
    "$$I=\\int_{x_a}^{x_b}\\int_{y_a}^{y_b}f(x,y)dxdy$$"
   ]
  },
  {
   "cell_type": "markdown",
   "id": "cde1c2b9",
   "metadata": {},
   "source": [
    "利用变换可得到：  \n",
    "  \n",
    "$x=\\frac{(x_b-x_a)\\xi+(x_b+x_a)}{2}$，其中$\\xi \\in [-1,1]$  \n",
    "  \n",
    "    \n",
    "$y=\\frac{(y_b-y_a)\\eta+(y_b+y_a)}{2}$，其中$\\eta \\in [-1,1]$ \n",
    "  \n",
    "    \n",
    "$dx=\\frac{x_b-x_a}{2}d \\xi$  \n",
    "  \n",
    "    \n",
    "$dy=\\frac{y_b-y_a}{2}d \\eta$ "
   ]
  },
  {
   "cell_type": "markdown",
   "id": "5c1c496b",
   "metadata": {},
   "source": [
    "将上述变换公式带入原式可得：\n",
    "$$I=\\int_{-1}^1 \\int_{-1}^1 f(\\frac{(x_b-x_a)\\xi+(x_b+x_a)}{2},\\frac{(y_b-y_a)\\eta+(y_b+y_a)}{2})\\frac{x_b-x_a}{2}d \\xi \\frac{y_b-y_a}{2}d \\eta$$"
   ]
  },
  {
   "cell_type": "markdown",
   "id": "863f1820",
   "metadata": {},
   "source": [
    "将常数移出来，可得：\n",
    "$$I=\\frac{x_b-x_a}{2}\\frac{y_b-y_a}{2}\\int_{-1}^1 \\int_{-1}^1 f(\\frac{(x_b-x_a)\\xi+(x_b+x_a)}{2},\\frac{(y_b-y_a)\\eta+(y_b+y_a)}{2})d \\xi d \\eta$$"
   ]
  },
  {
   "cell_type": "markdown",
   "id": "b1393ada",
   "metadata": {},
   "source": [
    "对于从-1到1之间的积分，可以使用高斯-勒让德积分公式求得，首先令：\n",
    "$F(\\xi,\\eta)=f(\\frac{(x_b-x_a)\\xi+(x_b+x_a)}{2},\\frac{(y_b-y_a)\\eta+(y_b+y_a)}{2})$,则：\n",
    "\n",
    "$$\\int_{-1}^1\\int_{-1}^1 F(\\xi,\\eta)d\\xi d\\eta=\\sum_{i=1}^n\\sum_{j=1}^n w_i w_j F(\\xi_i,\\eta_j)$$\n",
    "  \n",
    "其中，$w_i$，$w_j$，$\\xi_i$，$\\eta_j$表示高斯-勒让德积分中的权重和采样坐标，可以通过查表获得"
   ]
  },
  {
   "cell_type": "markdown",
   "id": "93bb8537",
   "metadata": {},
   "source": [
    "所以：\n",
    "  \n",
    "$$I=\\frac{x_b-x_a}{2}\\frac{y_b-y_a}{2}\\sum_{i=1}^n\\sum_{j=1}^n w_i w_j F(\\xi_i,\\eta_j)$$"
   ]
  },
  {
   "cell_type": "code",
   "execution_count": 12,
   "id": "631cd2c5",
   "metadata": {},
   "outputs": [],
   "source": [
    "def leg_gau_2d(f,n,xa,xb,ya,yb):\n",
    "    x,w=leggauss(n)\n",
    "    # x=(xb-xa)xi/2+(xb+xa)/2\n",
    "    # y=(yb-ya)eta/2+(yb+ya)/2\n",
    "    # dx=(xb-xa)/2 dxi\n",
    "    # dy=(yb-ya)/2 deta\n",
    "    summ=0\n",
    "    for i in range(len(x)):\n",
    "        # i 代表x,用a表示\n",
    "        a=(xb-xa)*x[i]/2+(xb+xa)/2\n",
    "        for j in range(len(x)):\n",
    "            # j 代表y，用b表示\n",
    "            b=(yb-ya)*x[j]/2+(yb+ya)/2\n",
    "            summ+=w[i]*w[j]*f(a,b)\n",
    "    \n",
    "    return (xb-xa)/2*(yb-ya)/2*summ"
   ]
  },
  {
   "cell_type": "code",
   "execution_count": 26,
   "id": "f1e80392",
   "metadata": {},
   "outputs": [
    {
     "data": {
      "text/plain": [
       "24.0"
      ]
     },
     "execution_count": 26,
     "metadata": {},
     "output_type": "execute_result"
    }
   ],
   "source": [
    "leg_gau_2d(f,2,0,2,0,2)"
   ]
  },
  {
   "cell_type": "markdown",
   "id": "b82fa6f6",
   "metadata": {},
   "source": [
    "## 2. 使用sympy试一下"
   ]
  },
  {
   "cell_type": "code",
   "execution_count": 14,
   "id": "f192f43d",
   "metadata": {},
   "outputs": [],
   "source": [
    "import sympy as sp"
   ]
  },
  {
   "cell_type": "code",
   "execution_count": 17,
   "id": "24fb299e",
   "metadata": {},
   "outputs": [
    {
     "data": {
      "text/plain": [
       "(xs, ys)"
      ]
     },
     "execution_count": 17,
     "metadata": {},
     "output_type": "execute_result"
    }
   ],
   "source": [
    "xs,ys=sp.symbols('xs ys')\n",
    "xs,ys"
   ]
  },
  {
   "cell_type": "code",
   "execution_count": 18,
   "id": "1598682b",
   "metadata": {},
   "outputs": [
    {
     "data": {
      "text/latex": [
       "$\\displaystyle 2 xs + 3 ys^{2}$"
      ],
      "text/plain": [
       "2*xs + 3*ys**2"
      ]
     },
     "execution_count": 18,
     "metadata": {},
     "output_type": "execute_result"
    }
   ],
   "source": [
    "fs=3*ys**2+2*xs\n",
    "fs"
   ]
  },
  {
   "cell_type": "code",
   "execution_count": 22,
   "id": "c0aa48fc",
   "metadata": {},
   "outputs": [],
   "source": [
    "def int_sp(fs,xa,xb,ya,yb):\n",
    "    return sp.integrate(fs,(xs,xa,xb),(ys,ya,yb))\n",
    "    "
   ]
  },
  {
   "cell_type": "code",
   "execution_count": 40,
   "id": "663f2b09",
   "metadata": {},
   "outputs": [
    {
     "data": {
      "text/latex": [
       "$\\displaystyle 24$"
      ],
      "text/plain": [
       "24"
      ]
     },
     "execution_count": 40,
     "metadata": {},
     "output_type": "execute_result"
    }
   ],
   "source": [
    "int_sp(fs,0,2,0,2)"
   ]
  },
  {
   "cell_type": "markdown",
   "id": "fc7535ff",
   "metadata": {},
   "source": [
    "# 3. 两种方式做个比较"
   ]
  },
  {
   "cell_type": "code",
   "execution_count": 39,
   "id": "0acd1606",
   "metadata": {},
   "outputs": [
    {
     "data": {
      "text/plain": [
       "(2719.7592, 2719.75920000000)"
      ]
     },
     "execution_count": 39,
     "metadata": {},
     "output_type": "execute_result"
    }
   ],
   "source": [
    "xa,xb=-2.8,5.9\n",
    "ya,yb=-2.8,6.4\n",
    "leg_gau_2d(f,2,xa,xb,ya,yb),int_sp(fs,xa,xb,ya,yb)"
   ]
  },
  {
   "cell_type": "code",
   "execution_count": 41,
   "id": "dfa1d4b4",
   "metadata": {},
   "outputs": [],
   "source": [
    "import matplotlib.pyplot as plt\n",
    "plt.style.use(['science','grid','notebook'])"
   ]
  },
  {
   "cell_type": "code",
   "execution_count": 52,
   "id": "d5109e82",
   "metadata": {},
   "outputs": [
    {
     "data": {
      "image/png": "[encoded data removed]",
      "text/plain": [
       "<Figure size 576x432 with 1 Axes>"
      ]
     },
     "metadata": {
      "needs_background": "light"
     },
     "output_type": "display_data"
    }
   ],
   "source": [
    "# 其中的数值是任意取得\n",
    "# 但是要保证xa<xb;ya<yb\n",
    "xa=np.linspace(-3,3)\n",
    "xb=np.linspace(2,5)\n",
    "ya=np.linspace(-5,2)\n",
    "yb=np.linspace(1,10)\n",
    "res=[(leg_gau_2d(f,2,xa[i],xb[i],ya[i],yb[i]),int_sp(fs,xa[i],xb[i],ya[i],yb[i]))for i in range(len(xa))]\n",
    "res=np.array(res)    \n",
    "plt.plot(res[:,0],res[:,1],'-o')\n",
    "plt.xlabel('leg_gau_2d')\n",
    "plt.ylabel('int_sp')\n",
    "plt.show()"
   ]
  },
  {
   "cell_type": "markdown",
   "id": "e3e1151b",
   "metadata": {},
   "source": [
    "可以看到，通过两种方式计算的结果基本上是一样的"
   ]
  }
 ],
 "metadata": {
  "kernelspec": {
   "display_name": "Python 3 (ipykernel)",
   "language": "python",
   "name": "python3"
  },
  "language_info": {
   "codemirror_mode": {
    "name": "ipython",
    "version": 3
   },
   "file_extension": ".py",
   "mimetype": "text/x-python",
   "name": "python",
   "nbconvert_exporter": "python",
   "pygments_lexer": "ipython3",
   "version": "3.9.7"
  }
 },
 "nbformat": 4,
 "nbformat_minor": 5
}
